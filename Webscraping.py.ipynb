{
 "cells": [
  {
   "cell_type": "code",
   "execution_count": 8,
   "id": "8eda6234",
   "metadata": {},
   "outputs": [],
   "source": [
    "import pandas as pd\n",
    "import requests\n",
    "from bs4 import BeautifulSoup"
   ]
  },
  {
   "cell_type": "code",
   "execution_count": 9,
   "id": "17cb5dde",
   "metadata": {},
   "outputs": [],
   "source": [
    "url = \"https://dir.indiamart.com/impcat/xerox-machines.html\""
   ]
  },
  {
   "cell_type": "code",
   "execution_count": 10,
   "id": "67024f04",
   "metadata": {},
   "outputs": [],
   "source": [
    "r = requests.get(url)"
   ]
  },
  {
   "cell_type": "code",
   "execution_count": 11,
   "id": "153742ce",
   "metadata": {},
   "outputs": [
    {
     "name": "stdout",
     "output_type": "stream",
     "text": [
      "<Response [200]>\n"
     ]
    }
   ],
   "source": [
    "print(r)"
   ]
  },
  {
   "cell_type": "code",
   "execution_count": 12,
   "id": "d9ba3522",
   "metadata": {},
   "outputs": [],
   "source": [
    "soup = BeautifulSoup(r.text,\"html.parser\")"
   ]
  },
  {
   "cell_type": "code",
   "execution_count": 14,
   "id": "e7d7b696",
   "metadata": {},
   "outputs": [],
   "source": [
    "mydata = {\"name\":[],\"price\":[],\"description\":[]}\n",
    "\n",
    "namelist = []\n",
    "pricelist = []\n",
    "descriptionlist = []"
   ]
  },
  {
   "cell_type": "code",
   "execution_count": null,
   "id": "aed48829",
   "metadata": {},
   "outputs": [],
   "source": [
    "\n",
    "data = soup.findAll(\"div\",class_= \"main-tb mDf mW1\")"
   ]
  },
  {
   "cell_type": "code",
   "execution_count": null,
   "id": "ec500ddb",
   "metadata": {},
   "outputs": [],
   "source": [
    "# len(data)\n",
    "# len(data.find('div'))\n",
    "for each in data:\n",
    "    data_new = each.findAll('div')\n",
    "    for each in data_new:\n",
    "        names = each.find('span', class_ = 'pnm ldf cur')\n",
    "        prices = each.find('span', class_ = 'prc cur')\n",
    "        description = each.find('div' , class_ = 'desc des_p elps3l')\n",
    "        if names != None and description != None and prices != None:\n",
    "            name = names.text\n",
    "            price = prices.text\n",
    "            description = description.text\n",
    "            mydata[\"name\"].append(name)\n",
    "            mydata[\"price\"].append(price)\n",
    "            mydata[\"description\"].append(description)\n"
   ]
  },
  {
   "cell_type": "code",
   "execution_count": null,
   "id": "2996bd4d",
   "metadata": {},
   "outputs": [],
   "source": [
    "# print(mydata)\n",
    "\n",
    "df = pd.DataFrame.from_dict(mydata)"
   ]
  },
  {
   "cell_type": "code",
   "execution_count": null,
   "id": "11e534d3",
   "metadata": {},
   "outputs": [],
   "source": [
    "data = df.drop_duplicates()"
   ]
  },
  {
   "cell_type": "code",
   "execution_count": null,
   "id": "678dc089",
   "metadata": {},
   "outputs": [],
   "source": [
    "# data.head()\n",
    "data.to_csv('C:/Users/DELL/Desktop/Harika_DE_projects/beautifulSoupdataextractproject.csv'"
   ]
  }
 ],
 "metadata": {
  "kernelspec": {
   "display_name": "Python 3 (ipykernel)",
   "language": "python",
   "name": "python3"
  },
  "language_info": {
   "codemirror_mode": {
    "name": "ipython",
    "version": 3
   },
   "file_extension": ".py",
   "mimetype": "text/x-python",
   "name": "python",
   "nbconvert_exporter": "python",
   "pygments_lexer": "ipython3",
   "version": "3.10.9"
  }
 },
 "nbformat": 4,
 "nbformat_minor": 5
}
